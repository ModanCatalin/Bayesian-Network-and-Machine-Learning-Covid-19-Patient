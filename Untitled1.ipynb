{
 "cells": [
  {
   "cell_type": "markdown",
   "metadata": {},
   "source": [
    "# Retea Bayesyana care calculeaza probabilitatea ca un pacient cu Covid-19 sa fie vindecata.\n",
    "\n",
    "Autor:Modan Catalin\n",
    "\n"
   ]
  },
  {
   "cell_type": "code",
   "execution_count": 60,
   "metadata": {
    "scrolled": true
   },
   "outputs": [
    {
     "name": "stdout",
     "output_type": "stream",
     "text": [
      "The watermark extension is already loaded. To reload it, use:\n",
      "  %reload_ext watermark\n",
      "Tue Apr 07 2020 \n",
      "\n",
      "numpy 1.18.2\n",
      "scipy 1.4.1\n",
      "pomegranate 0.11.1\n",
      "\n",
      "compiler   : GCC 7.3.0\n",
      "system     : Linux\n",
      "release    : 5.3.0-45-generic\n",
      "machine    : x86_64\n",
      "processor  : x86_64\n",
      "CPU cores  : 3\n",
      "interpreter: 64bit\n"
     ]
    }
   ],
   "source": [
    "import seaborn; seaborn.set_style('whitegrid')\n",
    "import numpy\n",
    "\n",
    "from pomegranate import *\n",
    "\n",
    "numpy.random.seed(0)\n",
    "numpy.set_printoptions(suppress=True)\n",
    "\n",
    "%load_ext watermark\n",
    "%watermark -m -n -p numpy,scipy,pomegranate"
   ]
  },
  {
   "cell_type": "markdown",
   "metadata": {},
   "source": [
    "Aceasta retea calculeaza probabilitatea ca un pacient din Romaia care are Covid-19 sa se vindece.\n",
    "Datele extrase pentru aceasta retea sunt din perioada <a href=\"https://www.worldometers.info/coronavirus/country/romania/\"> 22-30 Martie, 22 Martie fiind inceputul de decese in Romania.</a>\n",
    "\n",
    "\n",
    "Am luat in considerare urmatoarele aspecte ale pacientului:\n",
    "\n",
    "1)Asimptomatic/Simptomatic\n",
    "\n",
    "2)Varsta pacientului\n",
    "\n",
    "3)Daca se afla intr-un focar de infectie sau nu\n",
    "\n",
    "4)Bolile precedente care pot influenta boala\n",
    "\n",
    "1.Asimptomia reprezinta lipsa simptomelor la pacienti.Daca pacientul prezinta simptome, inseamna ca acesta este simptomatic.De retinut este ca multe cazuri pot parea asimptomatice la inceput, neprezentant niciun discomfort pacientului,dar <a href=\"https://www.ecdc.europa.eu/sites/default/files/documents/RRA-sixth-update-Outbreak-of-novel-coronavirus-disease-2019-COVID-19.pdf\">majoritatea cazurilor initial asimptomatice vor progresa in boli clinice, asfel procentul de persoane \"true asymptomatic\" va fii 1-3%.</a> Pentru convenienta am ales 2%.\n",
    "\n",
    "2.Varsta este un factor definitoriu, boala afectand mai mult persoanele in varsta acestea avand rata de mortalitate mai mare.In romania <a href=\"https://www.indexmundi.com/romania/demographics_profile.html\"> aproximativ 29% din populatie are peste 55 de ani. </a> Am ales un prag, de 55 de ani, dupa care consideram ca boala are mai mult efect.  \n",
    "\n",
    "3.Un focar de infectie reprezinta o zona mai infectata de virus. Din Romania am ales judetele Suceava si Hunedoara ca fiind focare, fiindca acestea au avut <a href=\"https://covid19.geo-spatial.org/dashboard/main\">cele mai multe cazuri pe cap de locuitor la momentul respectiv. </a>\n",
    "\n",
    "\n",
    "4.Covid-19 are efect <a href=\"https://www.who.int/news-room/q-a-detail/q-a-coronaviruses\">deosebit de grav asupra persoanelor care au boli precedente care pot influenta sistemul imunitar/respirator/circular. </a>\n",
    "    \n",
    "Consideram o persoana \"True Asymptomatic\"(acele 2%) ca fiind vindecata instant, desi nu e chiar corect si in conformitate cu normele de sanatate si aceasta ar trebui tratata pentru a nu raspandii boala.   \n",
    "\n",
    "\n",
    "\n",
    "    \n",
    "<img src=\"covid.png\">"
   ]
  },
  {
   "cell_type": "code",
   "execution_count": 69,
   "metadata": {},
   "outputs": [],
   "source": [
    "TrueAsymptotic = DiscreteDistribution({'Asymptomatic': 2./100, 'Symptomatic': 98./100})\n",
    "\n",
    "Varsta = DiscreteDistribution({'Peste55': 29.13/100, 'Sub55' : 70.87/100})\n",
    "\n",
    "Focar = DiscreteDistribution({'InFocar': 0.053/100, 'InafaraFocar': 99.947/100})\n",
    "\n",
    "PriorDisease = DiscreteDistribution({'Are' : 21./100, 'Nu are': 79./100})\n",
    "\n",
    "Covid19 = ConditionalProbabilityTable(\n",
    "          [ ['Asymptomatic', 'Peste55', 'InFocar', 'Are','Sevindeca', 100],\n",
    "            ['Asymptomatic', 'Peste55', 'InFocar', 'Are','Nusevindeca', 0],\n",
    "            ['Asymptomatic', 'Peste55', 'InFocar', 'Nu are','Sevindeca', 100],\n",
    "            ['Asymptomatic', 'Peste55', 'InFocar', 'Nu are','Nusevindeca', 0],\n",
    "            ['Asymptomatic', 'Peste55', 'InafaraFocar', 'Are','Sevindeca', 100],\n",
    "            ['Asymptomatic', 'Peste55', 'InafaraFocar', 'Are','Nusevindeca', 0],\n",
    "            ['Asymptomatic', 'Peste55', 'InafaraFocar', 'Nu are','Sevindeca', 100],\n",
    "            ['Asymptomatic', 'Peste55', 'InafaraFocar', 'Nu are','Nusevindeca', 0],\n",
    "            ['Asymptomatic', 'Sub55', 'InFocar', 'Are','Sevindeca', 100],\n",
    "            ['Asymptomatic', 'Sub55', 'InFocar', 'Are','Nusevindeca', 0],\n",
    "            ['Asymptomatic', 'Sub55', 'InFocar', 'Nu are','Sevindeca', 100],\n",
    "            ['Asymptomatic', 'Sub55', 'InFocar', 'Nu are','Nusevindeca', 0],\n",
    "            ['Asymptomatic', 'Sub55', 'InafaraFocar', 'Are','Sevindeca', 100],\n",
    "            ['Asymptomatic', 'Sub55', 'InafaraFocar', 'Are','Nusevindeca', 0],\n",
    "            ['Asymptomatic', 'Sub55', 'InafaraFocar', 'Nu are','Sevindeca', 100],\n",
    "            ['Asymptomatic', 'Sub55', 'InafaraFocar', 'Nu are','Nusevindeca', 0],\n",
    "            ['Symptomatic', 'Peste55', 'InFocar', 'Are','Sevindeca', 41.71],\n",
    "            ['Symptomatic', 'Peste55', 'InFocar', 'Are','Nusevindeca', 58.29],\n",
    "            ['Symptomatic', 'Peste55', 'InFocar', 'Nu are','Sevindeca', 57.14],\n",
    "            ['Symptomatic', 'Peste55', 'InFocar', 'Nu are','Nusevindeca', 42.86],\n",
    "            ['Symptomatic', 'Peste55', 'InafaraFocar', 'Are','Sevindeca', 55.17],\n",
    "            ['Symptomatic', 'Peste55', 'InafaraFocar', 'Are','Nusevindeca', 44.83],\n",
    "            ['Symptomatic', 'Peste55', 'InafaraFocar', 'Nu are','Sevindeca', 67.04],\n",
    "            ['Symptomatic', 'Peste55', 'InafaraFocar', 'Nu are','Nusevindeca', 32.96],\n",
    "            ['Symptomatic', 'Sub55', 'InFocar', 'Are','Sevindeca', 57.61],\n",
    "            ['Symptomatic', 'Sub55', 'InFocar', 'Are','Nusevindeca', 42.39],\n",
    "            ['Symptomatic', 'Sub55', 'InFocar', 'Nu are','Sevindeca', 68.83],\n",
    "            ['Symptomatic', 'Sub55', 'InFocar', 'Nu are','Nusevindeca', 31.17],\n",
    "            ['Symptomatic', 'Sub55', 'InafaraFocar', 'Are','Sevindeca', 67.39],\n",
    "            ['Symptomatic', 'Sub55', 'InafaraFocar', 'Are','Nusevindeca', 32.61],\n",
    "            ['Symptomatic', 'Sub55', 'InafaraFocar', 'Nu are','Sevindeca', 99.92],\n",
    "            ['Symptomatic', 'Sub55', 'InafaraFocar', 'Nu are','Nusevindeca', 00.08]\n",
    "          ],[TrueAsymptotic,Varsta,Focar,PriorDisease])\n",
    "\n",
    "    "
   ]
  },
  {
   "cell_type": "markdown",
   "metadata": {},
   "source": [
    "   In cele 9 zile analizate, s-a ajuns la un total de 2106 cazuri de boala in Romania, din care 65 au murit si 206 au fost vindecati. Utilizand doar cazurile cu finalitate(decese si vindecari), pentru ca celelalte sunt incerte, am extras o probabilitate de vindecare(76.02%), si una de  deces(23.98%). Dupa mai multe analize a datelor <a href=\"https://www.facebook.com/MinisterulSanatatii/\">celor decedati </a> si  de <a href=\"https://www.digi24.ro/stiri/actualitate/informatii-oficiale-despre-coronavirus-in-romania-1266261\">circumstantele decesului </a> am reusit sa facem o statistica cu cat de mult influenteaza starea pacientului tratat.\n",
    " \n",
    "   Din cele 65 de decese, 49 au fost batrani, 47 aveau boli asociate si 39 care au murit in unul din cele 2 focare.Dupa analiza intersectiilor acestor multimi am putut determina un procent pentru fiecare factor in parte astfel vazand cat de mult influenteaza fiecare. Problema principala o realizeaza pacientii batrani cu boli preliminare, dat fiind ca unele boli resimtite de acestia sunt \"boli ale batranetii\" si daca pentru acestea ar trebui acordat \"credit\" nodului PriorDisease sau nodului Varsta.\n",
    "   \n",
    "   Un factor care ar mai fii putut influenta reteaua ar fi fost sex-ul persoanelor, dar am ales sa nu il includ, negasind datele necesare pentru Romania in aceasta privinta.Deasemenea nu am crezut de cuviinta ca ar fii influentat prea mult. \n",
    "   \n",
    "   \n",
    "   De precizat ar fii ca la unul din aceste cazuri, un barbat de 52 de ani din Ialomita care a decedat pe data de 30, nu avem istoricul medical, <a href=\"http://www.romania-actualitati.ro/52_de_decese_in_romania_cauzate_de_covid_19-136926\">acesta neavand medic de familie sau apartinatori.</a>\n",
    "   "
   ]
  },
  {
   "cell_type": "code",
   "execution_count": 70,
   "metadata": {},
   "outputs": [],
   "source": [
    "nod1 = State(TrueAsymptotic, name=\"TrueAsymptotic\")\n",
    "nod2 = State(Varsta, name=\"Varsta\")\n",
    "nod3 = State(Focar, name=\"Focar\")\n",
    "nod4 = State(PriorDisease, name=\"PriorDisease\")\n",
    "nod5 = State(Covid19, name=\"Covid-19\")\n"
   ]
  },
  {
   "cell_type": "code",
   "execution_count": 71,
   "metadata": {},
   "outputs": [],
   "source": [
    "model = BayesianNetwork(\"Covid-19\")\n",
    "model.add_states(nod1, nod2, nod3, nod4,nod5)"
   ]
  },
  {
   "cell_type": "code",
   "execution_count": 72,
   "metadata": {},
   "outputs": [],
   "source": [
    "model.add_edge(nod1, nod5)\n",
    "model.add_edge(nod2, nod5)\n",
    "model.add_edge(nod3, nod5)\n",
    "model.add_edge(nod4, nod5)\n"
   ]
  },
  {
   "cell_type": "code",
   "execution_count": 73,
   "metadata": {
    "scrolled": true
   },
   "outputs": [],
   "source": [
    "model.bake()"
   ]
  },
  {
   "cell_type": "markdown",
   "metadata": {},
   "source": [
    "In continuare gasim exemple prin care dam Input-uri cu situatia pacientului ca sa avem o estimare a rata de vindecare a acestuia.\n",
    "\n",
    "Coloana \"Nusevindeca\" este echivalenta cu decesul pacientului."
   ]
  },
  {
   "cell_type": "code",
   "execution_count": 74,
   "metadata": {
    "scrolled": false
   },
   "outputs": [
    {
     "data": {
      "text/plain": [
       "[array(['Symptomatic', 'Sub55', 'InafaraFocar', 'Are',\n",
       "        {\n",
       "     \"class\" :\"Distribution\",\n",
       "     \"dtype\" :\"str\",\n",
       "     \"name\" :\"DiscreteDistribution\",\n",
       "     \"parameters\" :[\n",
       "         {\n",
       "             \"Sevindeca\" :0.6738999999999998,\n",
       "             \"Nusevindeca\" :0.32610000000000006\n",
       "         }\n",
       "     ],\n",
       "     \"frozen\" :false\n",
       " }], dtype=object)]"
      ]
     },
     "execution_count": 74,
     "metadata": {},
     "output_type": "execute_result"
    }
   ],
   "source": [
    "model.predict_proba([['Symptomatic', 'Sub55','InafaraFocar','Are', None, ]])"
   ]
  },
  {
   "cell_type": "code",
   "execution_count": 75,
   "metadata": {
    "scrolled": false
   },
   "outputs": [
    {
     "data": {
      "text/plain": [
       "[array(['Asymptomatic', 'Sub55', 'InFocar', 'Are',\n",
       "        {\n",
       "     \"class\" :\"Distribution\",\n",
       "     \"dtype\" :\"str\",\n",
       "     \"name\" :\"DiscreteDistribution\",\n",
       "     \"parameters\" :[\n",
       "         {\n",
       "             \"Sevindeca\" :1.0,\n",
       "             \"Nusevindeca\" :0.0\n",
       "         }\n",
       "     ],\n",
       "     \"frozen\" :false\n",
       " }], dtype=object)]"
      ]
     },
     "execution_count": 75,
     "metadata": {},
     "output_type": "execute_result"
    }
   ],
   "source": [
    "model.predict_proba([['Asymptomatic', 'Sub55', 'InFocar', 'Are', None, ]])"
   ]
  },
  {
   "cell_type": "markdown",
   "metadata": {},
   "source": [
    "Dupa cum puteti vedea, in orice caz dat in care pacientul este Asimptomatic, acesta va avea sansa de 100% sa se vindece, desi tot va face tratamentul. Nu am inclus nici-un risc al tratarii bolii, nestiind daca tratamentul in sine poate prezenta un pericol sau nu."
   ]
  },
  {
   "cell_type": "markdown",
   "metadata": {},
   "source": [
    "Pentru viitoare imbunatatiri ale retelei ar fii:<br>\n",
    "\n",
    "1)Documentarea fata de fiecare boala in parte si spargelea nodului de \"PriorDiseases\" in mai multe noduri, fiecare reprezentand o boala <br>\n",
    "2)Actualizarea retelei cu date de dupa 30 Martie 2020 <br>\n",
    "3)Compararea situatiilor din alte tari <br>\n"
   ]
  },
  {
   "cell_type": "code",
   "execution_count": null,
   "metadata": {},
   "outputs": [],
   "source": []
  }
 ],
 "metadata": {
  "kernelspec": {
   "display_name": "Python 3",
   "language": "python",
   "name": "python3"
  }
 },
 "nbformat": 4,
 "nbformat_minor": 4
}
